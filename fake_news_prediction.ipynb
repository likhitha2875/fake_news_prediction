{
  "nbformat": 4,
  "nbformat_minor": 0,
  "metadata": {
    "colab": {
      "provenance": []
    },
    "kernelspec": {
      "name": "python3",
      "display_name": "Python 3"
    },
    "language_info": {
      "name": "python"
    }
  },
  "cells": [
    {
      "cell_type": "code",
      "execution_count": 1,
      "metadata": {
        "colab": {
          "base_uri": "https://localhost:8080/"
        },
        "id": "6yT8GXKMNZOI",
        "outputId": "a43f1a6d-39c2-4675-be06-fa8dd5bd5ea3"
      },
      "outputs": [
        {
          "output_type": "stream",
          "name": "stderr",
          "text": [
            "[nltk_data] Downloading package stopwords to /root/nltk_data...\n",
            "[nltk_data]   Unzipping corpora/stopwords.zip.\n"
          ]
        },
        {
          "output_type": "execute_result",
          "data": {
            "text/plain": [
              "True"
            ]
          },
          "metadata": {},
          "execution_count": 1
        }
      ],
      "source": [
        "# For NLTK resources\n",
        "import nltk\n",
        "nltk.download('stopwords')"
      ]
    },
    {
      "cell_type": "code",
      "source": [
        "# Data handling\n",
        "import pandas as pd\n",
        "import numpy as np\n",
        "\n",
        "# Text preprocessing\n",
        "import re\n",
        "from nltk.corpus import stopwords\n",
        "from nltk.stem.porter import PorterStemmer"
      ],
      "metadata": {
        "id": "cB-wHnK5NsLA"
      },
      "execution_count": 2,
      "outputs": []
    },
    {
      "cell_type": "code",
      "source": [
        "# Machine learning\n",
        "from sklearn.feature_extraction.text import TfidfVectorizer\n",
        "from sklearn.model_selection import train_test_split\n",
        "from sklearn.ensemble import RandomForestClassifier\n",
        "from sklearn.metrics import accuracy_score, classification_report, confusion_matrix"
      ],
      "metadata": {
        "id": "jHZxx_lmNxHY"
      },
      "execution_count": 3,
      "outputs": []
    },
    {
      "cell_type": "code",
      "source": [
        "# Visualization\n",
        "import matplotlib.pyplot as plt\n",
        "import seaborn as sns\n",
        "\n",
        "# File handling\n",
        "from zipfile import ZipFile"
      ],
      "metadata": {
        "id": "37jVB2tXNyLf"
      },
      "execution_count": 4,
      "outputs": []
    },
    {
      "cell_type": "code",
      "source": [
        "# 2️⃣ Unzip your datasets inside Colab\n",
        "# -----------------------------------------\n",
        "with ZipFile('/content/Fake.csv.zip', 'r') as zip_ref:\n",
        "    zip_ref.extractall('/content/')\n",
        "\n",
        "with ZipFile('/content/True.csv.zip', 'r') as zip_ref:\n",
        "    zip_ref.extractall('/content/')\n",
        "\n",
        "print(\"✅ Files unzipped successfully.\")"
      ],
      "metadata": {
        "colab": {
          "base_uri": "https://localhost:8080/"
        },
        "id": "TDK92K9tN2SH",
        "outputId": "d789c1a4-3e6c-4a66-d60a-6401323c12b6"
      },
      "execution_count": 5,
      "outputs": [
        {
          "output_type": "stream",
          "name": "stdout",
          "text": [
            "✅ Files unzipped successfully.\n"
          ]
        }
      ]
    },
    {
      "cell_type": "code",
      "source": [
        "# 3️⃣ Load and merge datasets\n",
        "# -----------------------------------------\n",
        "fake_df = pd.read_csv('/content/Fake.csv')\n",
        "true_df = pd.read_csv('/content/True.csv')\n",
        "\n",
        "# Add labels\n",
        "fake_df['label'] = 1  # 1 = Fake\n",
        "true_df['label'] = 0  # 0 = Real"
      ],
      "metadata": {
        "id": "UMMrUhaMN6no"
      },
      "execution_count": 6,
      "outputs": []
    },
    {
      "cell_type": "code",
      "source": [
        "# Combine into one DataFrame\n",
        "news_df = pd.concat([fake_df, true_df], axis=0).reset_index(drop=True)\n",
        "print(f\"✅ Combined dataset shape: {news_df.shape}\")\n",
        "print(news_df.head())"
      ],
      "metadata": {
        "colab": {
          "base_uri": "https://localhost:8080/"
        },
        "id": "OBvzxJ-BN-dJ",
        "outputId": "66451a65-29a7-47c6-de83-90f688dc130f"
      },
      "execution_count": 7,
      "outputs": [
        {
          "output_type": "stream",
          "name": "stdout",
          "text": [
            "✅ Combined dataset shape: (44898, 5)\n",
            "                                               title  \\\n",
            "0   Donald Trump Sends Out Embarrassing New Year’...   \n",
            "1   Drunk Bragging Trump Staffer Started Russian ...   \n",
            "2   Sheriff David Clarke Becomes An Internet Joke...   \n",
            "3   Trump Is So Obsessed He Even Has Obama’s Name...   \n",
            "4   Pope Francis Just Called Out Donald Trump Dur...   \n",
            "\n",
            "                                                text subject  \\\n",
            "0  Donald Trump just couldn t wish all Americans ...    News   \n",
            "1  House Intelligence Committee Chairman Devin Nu...    News   \n",
            "2  On Friday, it was revealed that former Milwauk...    News   \n",
            "3  On Christmas day, Donald Trump announced that ...    News   \n",
            "4  Pope Francis used his annual Christmas Day mes...    News   \n",
            "\n",
            "                date  label  \n",
            "0  December 31, 2017      1  \n",
            "1  December 31, 2017      1  \n",
            "2  December 30, 2017      1  \n",
            "3  December 29, 2017      1  \n",
            "4  December 25, 2017      1  \n"
          ]
        }
      ]
    },
    {
      "cell_type": "code",
      "source": [
        "# 4️⃣ Data cleaning and handling nulls\n",
        "# -----------------------------------------\n",
        "print(\"\\nNull value count before cleaning:\")\n",
        "print(news_df.isnull().sum())\n",
        "\n",
        "news_df = news_df.fillna(' ')\n",
        "\n",
        "print(\"\\nNull value count after cleaning:\")\n",
        "print(news_df.isnull().sum())"
      ],
      "metadata": {
        "colab": {
          "base_uri": "https://localhost:8080/"
        },
        "id": "cA5rBtTjOBfP",
        "outputId": "5dc54f7f-0937-42c6-8dd6-05a31826f50a"
      },
      "execution_count": 8,
      "outputs": [
        {
          "output_type": "stream",
          "name": "stdout",
          "text": [
            "\n",
            "Null value count before cleaning:\n",
            "title      0\n",
            "text       0\n",
            "subject    0\n",
            "date       0\n",
            "label      0\n",
            "dtype: int64\n",
            "\n",
            "Null value count after cleaning:\n",
            "title      0\n",
            "text       0\n",
            "subject    0\n",
            "date       0\n",
            "label      0\n",
            "dtype: int64\n"
          ]
        }
      ]
    },
    {
      "cell_type": "code",
      "source": [
        "news_df['content'] = news_df['title'] + ' ' + news_df['text']\n"
      ],
      "metadata": {
        "id": "G_jlQFMlOEGp"
      },
      "execution_count": 10,
      "outputs": []
    },
    {
      "cell_type": "code",
      "source": [
        "# 6️⃣ Stemming: Preprocessing text data\n",
        "# -----------------------------------------\n",
        "ps = PorterStemmer()\n",
        "stop_words = set(stopwords.words('english'))\n",
        "\n",
        "def stemming(content):\n",
        "    # Remove non-alphabet characters\n",
        "    content = re.sub('[^a-zA-Z]', ' ', content)\n",
        "    # Convert to lowercase\n",
        "    content = content.lower()\n",
        "    # Tokenize\n",
        "    words = content.split()\n",
        "    # Remove stopwords and apply stemming\n",
        "    stemmed_words = [ps.stem(word) for word in words if word not in stop_words]\n",
        "    # Rejoin into a single string\n",
        "    return ' '.join(stemmed_words)\n",
        "\n",
        "# Apply stemming to content\n",
        "news_df['content'] = news_df['content'].apply(stemming)\n",
        "print(\"\\n✅ Stemming applied. Sample processed content:\")\n",
        "print(news_df['content'].head())"
      ],
      "metadata": {
        "colab": {
          "base_uri": "https://localhost:8080/"
        },
        "id": "9clHwhg1PAv_",
        "outputId": "86ff04f9-32ef-4815-970d-1743cef4a693"
      },
      "execution_count": 11,
      "outputs": [
        {
          "output_type": "stream",
          "name": "stdout",
          "text": [
            "\n",
            "✅ Stemming applied. Sample processed content:\n",
            "0    donald trump send embarrass new year eve messa...\n",
            "1    drunk brag trump staffer start russian collus ...\n",
            "2    sheriff david clark becom internet joke threat...\n",
            "3    trump obsess even obama name code websit imag ...\n",
            "4    pope franci call donald trump christma speech ...\n",
            "Name: content, dtype: object\n"
          ]
        }
      ]
    },
    {
      "cell_type": "code",
      "source": [
        "# 7️⃣ Preparing features and labels\n",
        "# -----------------------------------------\n",
        "X = news_df['content'].values\n",
        "y = news_df['label'].values\n",
        "\n",
        "print(f\"\\n✅ Feature and label preparation complete.\\nFeatures shape: {X.shape}\\nLabels shape: {y.shape}\")\n"
      ],
      "metadata": {
        "colab": {
          "base_uri": "https://localhost:8080/"
        },
        "id": "pHjbHJ-YP_zR",
        "outputId": "a1d94ffa-2323-4786-bf51-b66185dc231a"
      },
      "execution_count": 12,
      "outputs": [
        {
          "output_type": "stream",
          "name": "stdout",
          "text": [
            "\n",
            "✅ Feature and label preparation complete.\n",
            "Features shape: (44898,)\n",
            "Labels shape: (44898,)\n"
          ]
        }
      ]
    },
    {
      "cell_type": "code",
      "source": [
        "# 8️⃣ TF-IDF Vectorization\n",
        "# -----------------------------------------\n",
        "vectorizer = TfidfVectorizer(max_features=5000)\n",
        "vectorizer.fit(X)\n",
        "X_tfidf = vectorizer.transform(X)\n",
        "\n",
        "print(f\"\\n✅ TF-IDF Vectorization complete.\\nShape after vectorization: {X_tfidf.shape}\")"
      ],
      "metadata": {
        "colab": {
          "base_uri": "https://localhost:8080/"
        },
        "id": "rYUx3zYnQDBq",
        "outputId": "713d13e5-6780-4e7b-f14b-9923b509da08"
      },
      "execution_count": 13,
      "outputs": [
        {
          "output_type": "stream",
          "name": "stdout",
          "text": [
            "\n",
            "✅ TF-IDF Vectorization complete.\n",
            "Shape after vectorization: (44898, 5000)\n"
          ]
        }
      ]
    },
    {
      "cell_type": "code",
      "source": [
        "# 9️⃣ Train-Test Split\n",
        "# -----------------------------------------\n",
        "X_train, X_test, y_train, y_test = train_test_split(\n",
        "    X_tfidf, y, test_size=0.2, stratify=y, random_state=42)\n",
        "\n",
        "print(f\"\\n✅ Train-Test split complete.\\nTraining set size: {X_train.shape}\\nTest set size: {X_test.shape}\")"
      ],
      "metadata": {
        "colab": {
          "base_uri": "https://localhost:8080/"
        },
        "id": "uLuCeRjuQPaC",
        "outputId": "c9d01502-8ced-4c70-8be4-241a0af41d82"
      },
      "execution_count": 14,
      "outputs": [
        {
          "output_type": "stream",
          "name": "stdout",
          "text": [
            "\n",
            "✅ Train-Test split complete.\n",
            "Training set size: (35918, 5000)\n",
            "Test set size: (8980, 5000)\n"
          ]
        }
      ]
    },
    {
      "cell_type": "code",
      "source": [
        "# 🔟 Model Training using Random Forest\n",
        "# -----------------------------------------\n",
        "model = RandomForestClassifier(\n",
        "    n_estimators=200,          # Number of trees\n",
        "    max_depth=None,            # No max depth (grow fully)\n",
        "    random_state=42,\n",
        "    n_jobs=-1,                 # Use all CPU cores\n",
        "    verbose=1\n",
        ")\n",
        "\n",
        "model.fit(X_train, y_train)\n",
        "print(\"\\n✅ Model training complete.\")"
      ],
      "metadata": {
        "colab": {
          "base_uri": "https://localhost:8080/"
        },
        "id": "U4VhUd2IQWv3",
        "outputId": "909b88f3-dfa9-4836-8f5b-d991831966aa"
      },
      "execution_count": 15,
      "outputs": [
        {
          "output_type": "stream",
          "name": "stderr",
          "text": [
            "[Parallel(n_jobs=-1)]: Using backend ThreadingBackend with 2 concurrent workers.\n",
            "[Parallel(n_jobs=-1)]: Done  46 tasks      | elapsed:   27.7s\n",
            "[Parallel(n_jobs=-1)]: Done 196 tasks      | elapsed:  1.9min\n"
          ]
        },
        {
          "output_type": "stream",
          "name": "stdout",
          "text": [
            "\n",
            "✅ Model training complete.\n"
          ]
        },
        {
          "output_type": "stream",
          "name": "stderr",
          "text": [
            "[Parallel(n_jobs=-1)]: Done 200 out of 200 | elapsed:  2.0min finished\n"
          ]
        }
      ]
    },
    {
      "cell_type": "code",
      "source": [
        "# 1️⃣1️⃣ Model Evaluation\n",
        "# -----------------------------------------\n",
        "# Training accuracy\n",
        "y_train_pred = model.predict(X_train)\n",
        "train_acc = accuracy_score(y_train, y_train_pred)\n",
        "print(f\"\\nTraining Accuracy: {train_acc:.4f}\")\n",
        "\n",
        "# Test accuracy\n",
        "y_test_pred = model.predict(X_test)\n",
        "test_acc = accuracy_score(y_test, y_test_pred)\n",
        "print(f\"Test Accuracy: {test_acc:.4f}\")\n",
        "\n",
        "# Classification report\n",
        "print(\"\\nClassification Report:\")\n",
        "print(classification_report(y_test, y_test_pred, target_names=[\"Real\", \"Fake\"]))\n",
        "\n",
        "# Confusion matrix\n",
        "cm = confusion_matrix(y_test, y_test_pred)\n",
        "plt.figure(figsize=(6, 5))\n",
        "sns.heatmap(cm, annot=True, fmt='d', cmap='Blues', xticklabels=[\"Real\", \"Fake\"], yticklabels=[\"Real\", \"Fake\"])\n",
        "plt.xlabel('Predicted Label')\n",
        "plt.ylabel('True Label')\n",
        "plt.title('Confusion Matrix')\n",
        "plt.show()"
      ],
      "metadata": {
        "colab": {
          "base_uri": "https://localhost:8080/",
          "height": 869
        },
        "id": "QxY52bgmQ2ex",
        "outputId": "8d9ca44e-78e3-4127-ede1-42aa41ce1951"
      },
      "execution_count": 16,
      "outputs": [
        {
          "output_type": "stream",
          "name": "stderr",
          "text": [
            "[Parallel(n_jobs=2)]: Using backend ThreadingBackend with 2 concurrent workers.\n",
            "[Parallel(n_jobs=2)]: Done  46 tasks      | elapsed:    2.2s\n",
            "[Parallel(n_jobs=2)]: Done 196 tasks      | elapsed:   10.1s\n",
            "[Parallel(n_jobs=2)]: Done 200 out of 200 | elapsed:   10.2s finished\n",
            "[Parallel(n_jobs=2)]: Using backend ThreadingBackend with 2 concurrent workers.\n"
          ]
        },
        {
          "output_type": "stream",
          "name": "stdout",
          "text": [
            "\n",
            "Training Accuracy: 1.0000\n"
          ]
        },
        {
          "output_type": "stream",
          "name": "stderr",
          "text": [
            "[Parallel(n_jobs=2)]: Done  46 tasks      | elapsed:    0.6s\n",
            "[Parallel(n_jobs=2)]: Done 196 tasks      | elapsed:    2.8s\n",
            "[Parallel(n_jobs=2)]: Done 200 out of 200 | elapsed:    2.9s finished\n"
          ]
        },
        {
          "output_type": "stream",
          "name": "stdout",
          "text": [
            "Test Accuracy: 0.9980\n",
            "\n",
            "Classification Report:\n",
            "              precision    recall  f1-score   support\n",
            "\n",
            "        Real       1.00      1.00      1.00      4284\n",
            "        Fake       1.00      1.00      1.00      4696\n",
            "\n",
            "    accuracy                           1.00      8980\n",
            "   macro avg       1.00      1.00      1.00      8980\n",
            "weighted avg       1.00      1.00      1.00      8980\n",
            "\n"
          ]
        },
        {
          "output_type": "display_data",
          "data": {
            "text/plain": [
              "<Figure size 600x500 with 2 Axes>"
            ],
            "image/png": "[encoded data removed]"
          },
          "metadata": {}
        }
      ]
    },
    {
      "cell_type": "code",
      "source": [
        "# 1️⃣2️⃣ Testing on a Single News Example\n",
        "# -----------------------------------------\n",
        "test_idx = 20  # change index as needed\n",
        "single_news = X_test[test_idx]\n",
        "pred = model.predict(single_news)\n",
        "\n",
        "print(\"\\nTesting a single news sample:\")\n",
        "print(f\"Prediction: {'Fake News' if pred[0]==1 else 'Real News'}\")\n",
        "print(f\"Actual: {'Fake News' if y_test[test_idx]==1 else 'Real News'}\")"
      ],
      "metadata": {
        "colab": {
          "base_uri": "https://localhost:8080/"
        },
        "id": "7H0ekkX5RU2_",
        "outputId": "ab33b264-ded5-4fb3-9cdd-e6f79f047726"
      },
      "execution_count": 17,
      "outputs": [
        {
          "output_type": "stream",
          "name": "stdout",
          "text": [
            "\n",
            "Testing a single news sample:\n",
            "Prediction: Fake News\n",
            "Actual: Fake News\n"
          ]
        },
        {
          "output_type": "stream",
          "name": "stderr",
          "text": [
            "[Parallel(n_jobs=2)]: Using backend ThreadingBackend with 2 concurrent workers.\n",
            "[Parallel(n_jobs=2)]: Done  46 tasks      | elapsed:    0.0s\n",
            "[Parallel(n_jobs=2)]: Done 196 tasks      | elapsed:    0.1s\n",
            "[Parallel(n_jobs=2)]: Done 200 out of 200 | elapsed:    0.1s finished\n"
          ]
        }
      ]
    },
    {
      "cell_type": "code",
      "source": [
        "\n",
        "\n",
        "# Example news headline and body\n",
        "example_title = \"NASA Announces Discovery of Earth-like Planet Orbiting Nearby Star\"\n",
        "example_text = \"\"\"NASA scientists have announced the discovery of an Earth-like planet orbiting a nearby star,\n",
        "which may have conditions suitable for life. The planet is located in the habitable zone and shows promising data.\"\"\"\n",
        "\n",
        "# Combine for consistency\n",
        "example_content = example_title + ' ' + example_text\n",
        "\n",
        "# Apply the same preprocessing pipeline: stemming\n",
        "example_content_processed = stemming(example_content)\n",
        "\n",
        "# Transform using the fitted TF-IDF vectorizer\n",
        "example_vector = vectorizer.transform([example_content_processed])\n",
        "\n",
        "# Predict using the trained model\n",
        "prediction = model.predict(example_vector)\n",
        "\n",
        "# Display result\n",
        "print(\"\\n📰 **Example News:**\", example_title)\n",
        "if prediction[0] == 0:\n",
        "    print(\" Prediction: The news is **Real**.\")\n",
        "else:\n",
        "    print(\" Prediction: The news is **Fake**.\")\n"
      ],
      "metadata": {
        "colab": {
          "base_uri": "https://localhost:8080/"
        },
        "id": "DF7uqx0HRjMg",
        "outputId": "3e3e3edb-de08-4d2f-ed59-a308c2c0f3da"
      },
      "execution_count": 19,
      "outputs": [
        {
          "output_type": "stream",
          "name": "stdout",
          "text": [
            "\n",
            "📰 **Example News:** NASA Announces Discovery of Earth-like Planet Orbiting Nearby Star\n",
            " Prediction: The news is **Fake**.\n"
          ]
        },
        {
          "output_type": "stream",
          "name": "stderr",
          "text": [
            "[Parallel(n_jobs=2)]: Using backend ThreadingBackend with 2 concurrent workers.\n",
            "[Parallel(n_jobs=2)]: Done  46 tasks      | elapsed:    0.0s\n",
            "[Parallel(n_jobs=2)]: Done 196 tasks      | elapsed:    0.1s\n",
            "[Parallel(n_jobs=2)]: Done 200 out of 200 | elapsed:    0.1s finished\n"
          ]
        }
      ]
    }
  ]
}